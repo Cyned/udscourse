{
 "cells": [
  {
   "cell_type": "markdown",
   "metadata": {},
   "source": [
    "## My decision\n",
    "\n",
    "##### Roc_auc_score on\n",
    " - Validation: 0.74227313\n",
    " - leaderbord: "
   ]
  },
  {
   "cell_type": "code",
   "execution_count": null,
   "metadata": {},
   "outputs": [],
   "source": [
    "%%time\n",
    "\n",
    "num_rounds = 50\n",
    "roc_auc = []\n",
    "\n",
    "for train, val in skf.split(X_train, Y_train):\n",
    "    \n",
    "    xgb_model.fit(X_train.iloc[train], Y_train.iloc[train])\n",
    "    lgb_model.fit(X_train.iloc[train], Y_train.iloc[train])\n",
    "    ctb_model.fit(X_train.iloc[train], Y_train.iloc[train])\n",
    "    \n",
    "    roc_auc.append([roc_auc_score(Y_train.iloc[train], \n",
    "                                  xgb_model.predict_proba(X_train.iloc[train])[:, 1] * 0.1 + \n",
    "                                  lgb_model.predict_proba(X_train.iloc[train])[:, 1] * 0.6 + \n",
    "                                  ctb_model.predict_proba(X_train.iloc[train])[:, 1] * 0.3\n",
    "                                 ),\n",
    "                    roc_auc_score(Y_train.iloc[val],\n",
    "                                  xgb_model.predict_proba(X_train.iloc[val])[:, 1] * 0.1 + \n",
    "                                  lgb_model.predict_proba(X_train.iloc[val])[:, 1] * 0.6 +\n",
    "                                  ctb_model.predict_proba(X_train.iloc[val])[:, 1] * 0.3\n",
    "                                 )\n",
    "                  ])\n",
    "\n",
    "result = np.mean(roc_auc, axis=0)\n",
    "\n",
    "print(result)"
   ]
  },
  {
   "cell_type": "code",
   "execution_count": null,
   "metadata": {},
   "outputs": [],
   "source": [
    "xgb_prediction = xgb_model.predict_proba(X_test)[:, 1]\n",
    "lgb_prediction = lgb_model.predict_proba(X_test)[:, 1]\n",
    "ctb_prediction = ctb_model.predict_proba(X_test)[:, 1]\n",
    "ensemble_prediction = xgb_prediction * 0.1 + lgb_prediction * 0.65 + ctb_prediction * 0.25"
   ]
  },
  {
   "cell_type": "code",
   "execution_count": null,
   "metadata": {},
   "outputs": [],
   "source": [
    "min(ensemble_prediction)"
   ]
  },
  {
   "cell_type": "code",
   "execution_count": null,
   "metadata": {},
   "outputs": [],
   "source": [
    "write_pred('submission_my_decision7401.csv', ensemble_prediction)"
   ]
  }
 ],
 "metadata": {
  "kernelspec": {
   "display_name": "Python 3",
   "language": "python",
   "name": "python3"
  },
  "language_info": {
   "codemirror_mode": {
    "name": "ipython",
    "version": 3
   },
   "file_extension": ".py",
   "mimetype": "text/x-python",
   "name": "python",
   "nbconvert_exporter": "python",
   "pygments_lexer": "ipython3",
   "version": "3.6.3"
  }
 },
 "nbformat": 4,
 "nbformat_minor": 2
}
