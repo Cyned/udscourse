{
 "cells": [
  {
   "cell_type": "code",
   "execution_count": 24,
   "metadata": {},
   "outputs": [],
   "source": [
    "import pandas as pd\n",
    "import numpy as np\n",
    "import matplotlib.pyplot as plt"
   ]
  },
  {
   "cell_type": "markdown",
   "metadata": {},
   "source": [
    "## Read csv files"
   ]
  },
  {
   "cell_type": "code",
   "execution_count": 187,
   "metadata": {},
   "outputs": [],
   "source": [
    "file_train = '../data/wikipedia_train.csv'\n",
    "file_test = '../data/wikipedia_test.csv'\n",
    "\n",
    "df_train = pd.read_csv(file_train)\n",
    "df_test = pd.read_csv(file_test)"
   ]
  },
  {
   "cell_type": "code",
   "execution_count": 46,
   "metadata": {},
   "outputs": [],
   "source": [
    "def change_df(df):\n",
    "    columns = df.columns.values[1:]\n",
    "    df = pd.melt(df, id_vars='Page', value_vars=columns, value_name='Visits', var_name='Date')\n",
    "    df['Date'] = pd.to_datetime(df['Date'])\n",
    "    df['Dayweek'] = df['Date'].dt.dayofweek\n",
    "    # df = df.set_index('Page')\n",
    "    return df"
   ]
  },
  {
   "cell_type": "code",
   "execution_count": 188,
   "metadata": {},
   "outputs": [],
   "source": [
    "df_train = change_df(df_train)\n",
    "df_test = change_df(df_test)"
   ]
  },
  {
   "cell_type": "code",
   "execution_count": 49,
   "metadata": {},
   "outputs": [
    {
     "data": {
      "text/html": [
       "<div>\n",
       "<style scoped>\n",
       "    .dataframe tbody tr th:only-of-type {\n",
       "        vertical-align: middle;\n",
       "    }\n",
       "\n",
       "    .dataframe tbody tr th {\n",
       "        vertical-align: top;\n",
       "    }\n",
       "\n",
       "    .dataframe thead th {\n",
       "        text-align: right;\n",
       "    }\n",
       "</style>\n",
       "<table border=\"1\" class=\"dataframe\">\n",
       "  <thead>\n",
       "    <tr style=\"text-align: right;\">\n",
       "      <th></th>\n",
       "      <th>Page</th>\n",
       "      <th>Date</th>\n",
       "      <th>Visits</th>\n",
       "      <th>Dayweek</th>\n",
       "    </tr>\n",
       "  </thead>\n",
       "  <tbody>\n",
       "    <tr>\n",
       "      <th>0</th>\n",
       "      <td>15._November_de.wikipedia.org_desktop_all-agents</td>\n",
       "      <td>2015-07-01</td>\n",
       "      <td>32.0</td>\n",
       "      <td>2</td>\n",
       "    </tr>\n",
       "    <tr>\n",
       "      <th>1</th>\n",
       "      <td>2012_(film)_fr.wikipedia.org_all-access_spider</td>\n",
       "      <td>2015-07-01</td>\n",
       "      <td>2.0</td>\n",
       "      <td>2</td>\n",
       "    </tr>\n",
       "    <tr>\n",
       "      <th>2</th>\n",
       "      <td>2016_FIFA_U-20女子ワールドカップ_ja.wikipedia.org_all-a...</td>\n",
       "      <td>2015-07-01</td>\n",
       "      <td>1.0</td>\n",
       "      <td>2</td>\n",
       "    </tr>\n",
       "    <tr>\n",
       "      <th>3</th>\n",
       "      <td>2016_UEFA_Europa_League_Final_en.wikipedia.org...</td>\n",
       "      <td>2015-07-01</td>\n",
       "      <td>3.0</td>\n",
       "      <td>2</td>\n",
       "    </tr>\n",
       "    <tr>\n",
       "      <th>4</th>\n",
       "      <td>2016_in_video_gaming_en.wikipedia.org_all-acce...</td>\n",
       "      <td>2015-07-01</td>\n",
       "      <td>24.0</td>\n",
       "      <td>2</td>\n",
       "    </tr>\n",
       "  </tbody>\n",
       "</table>\n",
       "</div>"
      ],
      "text/plain": [
       "                                                Page       Date  Visits  \\\n",
       "0   15._November_de.wikipedia.org_desktop_all-agents 2015-07-01    32.0   \n",
       "1     2012_(film)_fr.wikipedia.org_all-access_spider 2015-07-01     2.0   \n",
       "2  2016_FIFA_U-20女子ワールドカップ_ja.wikipedia.org_all-a... 2015-07-01     1.0   \n",
       "3  2016_UEFA_Europa_League_Final_en.wikipedia.org... 2015-07-01     3.0   \n",
       "4  2016_in_video_gaming_en.wikipedia.org_all-acce... 2015-07-01    24.0   \n",
       "\n",
       "   Dayweek  \n",
       "0        2  \n",
       "1        2  \n",
       "2        2  \n",
       "3        2  \n",
       "4        2  "
      ]
     },
     "execution_count": 49,
     "metadata": {},
     "output_type": "execute_result"
    }
   ],
   "source": [
    "df_train.head()"
   ]
  },
  {
   "cell_type": "code",
   "execution_count": 175,
   "metadata": {},
   "outputs": [],
   "source": [
    "def get_medians(df, days):\n",
    "    date_window = len(df['Page'].unique()) * 7 * days\n",
    "    grouped = df.iloc[-date_window:].groupby(['Page','Dayweek'])['Visits'].median().fillna(0)\n",
    "    return grouped\n",
    "\n",
    "def form_series(grouped, test_data):\n",
    "    array = []\n",
    "    for item in test_data.values:\n",
    "        array.append(grouped.loc[item[0], item[3]])\n",
    "    return array\n",
    "\n",
    "def pandas_smape(df):\n",
    "    df.fillna(0, inplace=True)\n",
    "    df[\"SMAPE\"] = 200 * np.abs(df[\"Visits\"] - df[\"pred_Visits\"]) / (df[\"Visits\"] + df[\"pred_Visits\"])\n",
    "    df[\"SMAPE\"].fillna(0, inplace=True)\n",
    "    return np.mean(df[\"SMAPE\"])"
   ]
  },
  {
   "cell_type": "code",
   "execution_count": 193,
   "metadata": {},
   "outputs": [
    {
     "name": "stdout",
     "output_type": "stream",
     "text": [
      "Max accuracy by: 27: 49.83547039727196\n",
      "(27, 49.83547039727196)\n"
     ]
    }
   ],
   "source": [
    "smapes = dict()\n",
    "rang = range(1, len(df_train) // len(df_train['Page'].unique()) // 7)\n",
    "for i in rang:\n",
    "    grouped = get_medians(df_train, i)\n",
    "    df_test['pred_Visits'] = form_series(grouped, df_test)\n",
    "    smapes[i] = pandas_smape(df_test)\n",
    "    \n",
    "minimum= sorted(list(smapes.items()), key=lambda x: x[1])[0]\n",
    "print('Max accuracy by: {}: {}'.format(minimum[0], minimum[1]))"
   ]
  },
  {
   "cell_type": "code",
   "execution_count": 198,
   "metadata": {},
   "outputs": [
    {
     "data": {
      "text/plain": [
       "61"
      ]
     },
     "execution_count": 198,
     "metadata": {},
     "output_type": "execute_result"
    }
   ],
   "source": [
    "len(df_train) // len(df_train['Page'].unique()) // 7"
   ]
  }
 ],
 "metadata": {
  "kernelspec": {
   "display_name": "Python 3",
   "language": "python",
   "name": "python3"
  },
  "language_info": {
   "codemirror_mode": {
    "name": "ipython",
    "version": 3
   },
   "file_extension": ".py",
   "mimetype": "text/x-python",
   "name": "python",
   "nbconvert_exporter": "python",
   "pygments_lexer": "ipython3",
   "version": "3.6.3"
  }
 },
 "nbformat": 4,
 "nbformat_minor": 2
}
